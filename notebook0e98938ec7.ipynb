{
 "cells": [
  {
   "cell_type": "markdown",
   "id": "c48ce048",
   "metadata": {
    "papermill": {
     "duration": 0.001838,
     "end_time": "2025-02-22T18:46:13.522034",
     "exception": false,
     "start_time": "2025-02-22T18:46:13.520196",
     "status": "completed"
    },
    "tags": []
   },
   "source": [
    "## Descrição do Problema, Dados e Variáveis\n",
    "### Problema\n",
    "O problema abordado pelo State of Data Brazil 2023 é o mapeamento do mercado de trabalho na área de dados no Brasil. O objetivo é identificar tendências, desafios e oportunidades para profissionais de dados, como cientistas de dados, engenheiros de dados e analistas de dados. A pesquisa busca compreender aspectos como perfis profissionais, remuneração, rotatividade, impacto do trabalho remoto, uso de tecnologias emergentes (como AI Generativa e LLMs) e fatores de satisfação no ambiente de trabalho.\n"
   ]
  },
  {
   "cell_type": "code",
   "execution_count": 1,
   "id": "50066f05",
   "metadata": {
    "_cell_guid": "b1076dfc-b9ad-4769-8c92-a6c4dae69d19",
    "_uuid": "8f2839f25d086af736a60e9eeb907d3b93b6e0e5",
    "execution": {
     "iopub.execute_input": "2025-02-22T18:46:13.526771Z",
     "iopub.status.busy": "2025-02-22T18:46:13.526285Z",
     "iopub.status.idle": "2025-02-22T18:46:14.426076Z",
     "shell.execute_reply": "2025-02-22T18:46:14.424944Z"
    },
    "papermill": {
     "duration": 0.904202,
     "end_time": "2025-02-22T18:46:14.427859",
     "exception": false,
     "start_time": "2025-02-22T18:46:13.523657",
     "status": "completed"
    },
    "tags": []
   },
   "outputs": [
    {
     "name": "stdout",
     "output_type": "stream",
     "text": [
      "/kaggle/input/state-of-data-brazil-2023/State_of_data_BR_2023_Kaggle - df_survey_2023.csv\n"
     ]
    }
   ],
   "source": [
    "# This Python 3 environment comes with many helpful analytics libraries installed\n",
    "# It is defined by the kaggle/python Docker image: https://github.com/kaggle/docker-python\n",
    "# For example, here's several helpful packages to load\n",
    "\n",
    "import numpy as np # linear algebra\n",
    "import pandas as pd # data processing, CSV file I/O (e.g. pd.read_csv)\n",
    "\n",
    "# Input data files are available in the read-only \"../input/\" directory\n",
    "# For example, running this (by clicking run or pressing Shift+Enter) will list all files under the input directory\n",
    "\n",
    "import os\n",
    "for dirname, _, filenames in os.walk('/kaggle/input'):\n",
    "    for filename in filenames:\n",
    "        print(os.path.join(dirname, filename))\n",
    "\n",
    "# You can write up to 20GB to the current directory (/kaggle/working/) that gets preserved as output when you create a version using \"Save & Run All\" \n",
    "# You can also write temporary files to /kaggle/temp/, but they won't be saved outside of the current session"
   ]
  }
 ],
 "metadata": {
  "kaggle": {
   "accelerator": "none",
   "dataSources": [
    {
     "datasetId": 5242826,
     "sourceId": 8734113,
     "sourceType": "datasetVersion"
    }
   ],
   "isGpuEnabled": false,
   "isInternetEnabled": true,
   "language": "python",
   "sourceType": "notebook"
  },
  "kernelspec": {
   "display_name": "Python 3",
   "language": "python",
   "name": "python3"
  },
  "language_info": {
   "codemirror_mode": {
    "name": "ipython",
    "version": 3
   },
   "file_extension": ".py",
   "mimetype": "text/x-python",
   "name": "python",
   "nbconvert_exporter": "python",
   "pygments_lexer": "ipython3",
   "version": "3.10.12"
  },
  "papermill": {
   "default_parameters": {},
   "duration": 4.325064,
   "end_time": "2025-02-22T18:46:14.950043",
   "environment_variables": {},
   "exception": null,
   "input_path": "__notebook__.ipynb",
   "output_path": "__notebook__.ipynb",
   "parameters": {},
   "start_time": "2025-02-22T18:46:10.624979",
   "version": "2.6.0"
  }
 },
 "nbformat": 4,
 "nbformat_minor": 5
}
