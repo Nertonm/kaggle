{
 "cells": [
  {
   "cell_type": "markdown",
   "metadata": {},
   "source": [
    "## Descrição do Problema, Dados e Variáveis\n",
    "### Problema\n",
    "O problema abordado pelo State of Data Brazil 2023 é o mapeamento do mercado de trabalho na área de dados no Brasil. O objetivo é identificar tendências, desafios e oportunidades para profissionais de dados, como cientistas de dados, engenheiros de dados e analistas de dados. A pesquisa busca compreender aspectos como perfis profissionais, remuneração, rotatividade, impacto do trabalho remoto, uso de tecnologias emergentes (como AI Generativa e LLMs) e fatores de satisfação no ambiente de trabalho.\n"
   ]
  },
  {
   "cell_type": "code",
   "execution_count": null,
   "metadata": {
    "_cell_guid": "b1076dfc-b9ad-4769-8c92-a6c4dae69d19",
    "_uuid": "8f2839f25d086af736a60e9eeb907d3b93b6e0e5",
    "trusted": true
   },
   "outputs": [],
   "source": [
    "# This Python 3 environment comes with many helpful analytics libraries installed\n",
    "# It is defined by the kaggle/python Docker image: https://github.com/kaggle/docker-python\n",
    "# For example, here's several helpful packages to load\n",
    "\n",
    "import numpy as np # linear algebra\n",
    "import pandas as pd # data processing, CSV file I/O (e.g. pd.read_csv)\n",
    "\n",
    "# Input data files are available in the read-only \"../input/\" directory\n",
    "# For example, running this (by clicking run or pressing Shift+Enter) will list all files under the input directory\n",
    "\n",
    "import os\n",
    "for dirname, _, filenames in os.walk('/kaggle/input'):\n",
    "    for filename in filenames:\n",
    "        print(os.path.join(dirname, filename))\n",
    "\n",
    "# You can write up to 20GB to the current directory (/kaggle/working/) that gets preserved as output when you create a version using \"Save & Run All\" \n",
    "# You can also write temporary files to /kaggle/temp/, but they won't be saved outside of the current session"
   ]
  },
  {
   "cell_type": "markdown",
   "metadata": {},
   "source": [
    "### Get File Path and load Dataframe"
   ]
  },
  {
   "cell_type": "code",
   "execution_count": null,
   "metadata": {},
   "outputs": [],
   "source": [
    "def get_file_path():\n",
    "    import os\n",
    "    # Load the data\n",
    "    if os.path.exists('/kaggle'):\n",
    "        file_path = '/kaggle/input/state-of-data-brazil-2023/State_of_data_BR_2023_Kaggle - df_survey_2023.csv'\n",
    "    else:\n",
    "        default_directory = '/home/nerton/Projects/kaggle'\n",
    "        os.chdir(default_directory)\n",
    "        file_path = './input/state-of-data-brazil-2023⁄State_of_data_BR_2023_Kaggle.csv'\n",
    "    return file_path\n"
   ]
  },
  {
   "cell_type": "code",
   "execution_count": null,
   "metadata": {},
   "outputs": [],
   "source": [
    "# Carregando o DataFrame\n",
    "file_path = get_file_path()\n",
    "df = pd.read_csv(file_path)\n",
    "df.head()\n",
    "\n"
   ]
  },
  {
   "cell_type": "markdown",
   "metadata": {},
   "source": [
    "### Listar Colunas"
   ]
  },
  {
   "cell_type": "code",
   "execution_count": null,
   "metadata": {},
   "outputs": [],
   "source": [
    "from pprint import pprint\n",
    "\n",
    "# Listar os nomes das colunas no DataFrame de forma legível\n",
    "columns = df.columns.tolist()\n",
    "print(\"Colunas do DataFrame:\")\n",
    "pprint(columns)"
   ]
  },
  {
   "cell_type": "markdown",
   "metadata": {},
   "source": [
    "### Análise Univariada Funções\n",
    "1.1 Distribuição de Variável Qualitativa  \n",
    "1.2 Distribuição de Variável Quantitativa  \n"
   ]
  },
  {
   "cell_type": "code",
   "execution_count": null,
   "metadata": {},
   "outputs": [],
   "source": [
    "# Análise Qualitativa de Colunas\n",
    "def analyze_quali_column(column_name):\n",
    "    print(f\"Análise da Coluna: {column_name}\")\n",
    "    print(f\"Valores Únicos: {df[column_name].unique()}\")\n",
    "    print(f\"Quantidade de Valores Únicos: {df[column_name].nunique()}\")\n",
    "    print(f\"Quantidade de Valores Nulos: {df[column_name].isnull().sum()}\")\n",
    "    print(f\"Valores Nulos: {df[column_name][df[column_name].isnull()]}\")\n",
    "    print(f\"Contagem de Frequência dos Valores: {df[column_name].value_counts()}\")\n",
    "    print(\"\\n\")\n",
    "    return\n",
    "\n",
    "def make_graph_column(column_name):\n",
    "    import matplotlib.pyplot as plt\n",
    "    import seaborn as sns\n",
    "    plt.figure(figsize=(10, 5))\n",
    "    sns.countplot(data=df, x=column_name, order = df[column_name].value_counts().index)\n",
    "    plt.xticks(rotation=90)\n",
    "    plt.show()\n",
    "    return\n",
    "\n",
    "# Análise Quantitativa de Colunas\n",
    "def analyze_quanti_column(column_name):\n",
    "    print(f\"Análise da Coluna: {column_name}\")\n",
    "    print(f\"Valores Únicos: {df[column_name].unique()}\")\n",
    "    print(f\"Quantidade de Valores Únicos: {df[column_name].nunique()}\")\n",
    "    print(f\"Quantidade de Valores Nulos: {df[column_name].isnull().sum()}\")\n",
    "    print(f\"Valores Nulos: {df[column_name][df[column_name].isnull()]}\")\n",
    "    print(f\"Média: {df[column_name].mean()}\")\n",
    "    print(f\"Mediana: {df[column_name].median()}\")\n",
    "    print(f\"Desvio Padrão: {df[column_name].std()}\")\n",
    "    print(f\"Valor Mínimo: {df[column_name].min()}\")\n",
    "    print(f\"Valor Máximo: {df[column_name].max()}\")\n",
    "    print(\"\\n\")\n",
    "    return\n",
    "\n",
    "def make_histogram_column(column_name):\n",
    "    import matplotlib.pyplot as plt\n",
    "    plt.figure(figsize=(10, 5))\n",
    "    df[column_name].dropna().plot(kind='hist', bins=20, edgecolor='black')\n",
    "    plt.title(f'Distribuição da Variável Quantitativa: {column_name}')\n",
    "    plt.xlabel(column_name)\n",
    "    plt.ylabel('Frequência')\n",
    "    plt.show()\n",
    "    return"
   ]
  },
  {
   "cell_type": "code",
   "execution_count": null,
   "metadata": {},
   "outputs": [],
   "source": [
    "#Exemplos de análise de colunas\n",
    "\n",
    "# Análise qualitativa\n",
    "analyze_quali_column(\"('P1_b ', 'Genero')\")\n",
    "make_graph_column(\"('P1_b ', 'Genero')\")\n",
    "\n",
    "# Análise quantitativa\n",
    "analyze_quanti_column(\"('P1_a ', 'Idade')\")\n",
    "make_histogram_column(\"('P1_a ', 'Idade')\")"
   ]
  }
 ],
 "metadata": {
  "kaggle": {
   "accelerator": "none",
   "dataSources": [
    {
     "datasetId": 5242826,
     "sourceId": 8734113,
     "sourceType": "datasetVersion"
    }
   ],
   "dockerImageVersionId": 30886,
   "isGpuEnabled": false,
   "isInternetEnabled": true,
   "language": "python",
   "sourceType": "notebook"
  },
  "kernelspec": {
   "display_name": "Python 3",
   "language": "python",
   "name": "python3"
  },
  "language_info": {
   "codemirror_mode": {
    "name": "ipython",
    "version": 3
   },
   "file_extension": ".py",
   "mimetype": "text/x-python",
   "name": "python",
   "nbconvert_exporter": "python",
   "pygments_lexer": "ipython3",
   "version": "3.13.2"
  }
 },
 "nbformat": 4,
 "nbformat_minor": 4
}
